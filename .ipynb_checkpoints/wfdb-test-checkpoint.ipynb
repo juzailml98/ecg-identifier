{
 "cells": [
  {
   "cell_type": "code",
   "execution_count": 9,
   "id": "sudden-rochester",
   "metadata": {},
   "outputs": [],
   "source": [
    "import numpy as np\n",
    "import pandas as pd\n",
    "import matplotlib.pyplot as plt\n",
    "import seaborn as sns"
   ]
  },
  {
   "cell_type": "code",
   "execution_count": 10,
   "id": "express-wilderness",
   "metadata": {},
   "outputs": [],
   "source": [
    "file=pd.read_csv(\"mitbih_database/100.csv\")"
   ]
  },
  {
   "cell_type": "code",
   "execution_count": 12,
   "id": "joint-conference",
   "metadata": {},
   "outputs": [
    {
     "data": {
      "text/plain": [
       "Index([''sample #'', ''MLII'', ''V5''], dtype='object')"
      ]
     },
     "execution_count": 12,
     "metadata": {},
     "output_type": "execute_result"
    }
   ],
   "source": [
    "file.columns"
   ]
  },
  {
   "cell_type": "code",
   "execution_count": 14,
   "id": "confused-monday",
   "metadata": {},
   "outputs": [
    {
     "data": {
      "text/plain": [
       "0     1011\n",
       "1     1011\n",
       "2     1011\n",
       "3     1011\n",
       "4     1011\n",
       "5     1011\n",
       "6     1011\n",
       "7     1011\n",
       "8     1008\n",
       "9     1008\n",
       "10    1007\n",
       "11    1007\n",
       "12    1009\n",
       "13    1010\n",
       "14    1010\n",
       "15    1011\n",
       "16    1013\n",
       "17    1014\n",
       "Name: 'V5', dtype: int64"
      ]
     },
     "execution_count": 14,
     "metadata": {},
     "output_type": "execute_result"
    }
   ],
   "source": [
    "signal=file.iloc[:18,2]"
   ]
  },
  {
   "cell_type": "code",
   "execution_count": null,
   "id": "protective-commodity",
   "metadata": {},
   "outputs": [],
   "source": []
  }
 ],
 "metadata": {
  "kernelspec": {
   "display_name": "Python 3",
   "language": "python",
   "name": "python3"
  },
  "language_info": {
   "codemirror_mode": {
    "name": "ipython",
    "version": 3
   },
   "file_extension": ".py",
   "mimetype": "text/x-python",
   "name": "python",
   "nbconvert_exporter": "python",
   "pygments_lexer": "ipython3",
   "version": "3.8.5"
  }
 },
 "nbformat": 4,
 "nbformat_minor": 5
}
